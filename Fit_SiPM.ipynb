{
 "cells": [
  {
   "cell_type": "code",
   "execution_count": 50,
   "metadata": {},
   "outputs": [],
   "source": [
    "import numpy as np\n",
    "import glob\n",
    "import os\n",
    "import shutil\n",
    "import matplotlib.pyplot as plt\n",
    "\n",
    "#Install scipy, astropy and iminuit\n",
    "from scipy.signal import find_peaks\n",
    "from astropy.table import Table\n",
    "from iminuit import Minuit\n",
    "from iminuit.cost import LeastSquares"
   ]
  },
  {
   "cell_type": "code",
   "execution_count": 54,
   "metadata": {},
   "outputs": [],
   "source": [
    "scans_name = './2022-03-17-Scans/Scans/*.txt'\n",
    "scans = sorted(glob.glob(scans_name)) \n",
    "date = scans_name.split('/')[1] \n",
    "\n",
    "#Create paths to save intermediate results\n",
    "path1 = './2022-03-17-Scans/fit_quality'\n",
    "if not os.path.exists(path1):\n",
    "    os.makedirs(path1) #save figures with fits\n",
    "else:\n",
    "    shutil.rmtree(path1) #overwrite folders if exist\n",
    "    os.makedirs(path1)\n",
    "    \n",
    "for i in range(9):\n",
    "    paths = './2022-03-17-Scans/fit_quality/board'+str(i) #subdirectories for different boards\n",
    "    if not os.path.exists(paths):\n",
    "        os.makedirs(paths) #save figures with fits\n",
    "    else:\n",
    "        shutil.rmtree(paths)\n",
    "        os.makedirs(paths) \n",
    "    \n",
    "path2 = './2022-03-17-Scans/fit_parameters' #save fit parameters\n",
    "if not os.path.exists(path2):\n",
    "    os.makedirs(path2) \n",
    "else:\n",
    "    shutil.rmtree(path2)\n",
    "    os.makedirs(path2)\n",
    "    \n",
    "#Define mapping dict\n",
    "board_dict={\n",
    "    'board0': np.arange(0,8),\n",
    "    'board1': np.arange(8,16), #if only has scans for bore + bottom paddle, then here is 'board5'.\n",
    "    'board2': np.arange(16,24), #or 'board6'. The board name doesn't really matter. As long as the range is correct. \n",
    "    'board3': np.arange(24,32), #or 'board7'.\n",
    "    'board4': np.arange(32,40), #or 'board8'.\n",
    "    'board5': np.arange(40,48),\n",
    "    'board6': np.arange(48,56),\n",
    "    'board7': np.arange(56,64),\n",
    "    'board8': np.arange(64,72)\n",
    "    }\n",
    "\n",
    "board_list = ['board0', 'board1', 'board2', 'board3', 'board4', 'board5','board6','board7','board8']"
   ]
  },
  {
   "cell_type": "code",
   "execution_count": 16,
   "metadata": {},
   "outputs": [],
   "source": [
    "#Plot scans\n",
    "#b_num = 9\n",
    "b_num = 5 #This scan only has bore + bottom. Later you will need b_num = 9, if the scan has bore + top + bottom\n",
    "for b in range(b_num): \n",
    "    plt.figure(figsize=(20,16))\n",
    "    for j in board_dict[board_list[b]]:\n",
    "        for s in [0]:\n",
    "            run = Table.read(scans[j], format='ascii')\n",
    "            SiPMs = run.columns[1]\n",
    "            SiPMs = np.array(SiPMs)\n",
    "            SiPM = np.where(SiPMs==s)[0]\n",
    "            thrd = run.columns[4][SiPM]*1000\n",
    "            rate = run.columns[7][SiPM]\n",
    "            name = scans[j].split('/')[3][9:23] + '_SiPM_' + str(s)\n",
    "\n",
    "            plt.plot(thrd, rate, marker='.', label=name)\n",
    "            plt.yscale('log')\n",
    "            plt.legend(loc='right')\n",
    "            plt.title('Board'+scans[j].split('/')[3][15], fontsize=36)\n",
    "            plt.xlabel('Thresholds (mV)',fontsize=16)\n",
    "            plt.ylabel('Dark count rate (Hz)',fontsize=16)\n",
    "            plt.rc('xtick', labelsize=14) \n",
    "            plt.rc('ytick', labelsize=14) \n",
    "    plt.savefig('./'+date+'/Board'+scans[j].split('/')[3][15]+'.jpg')\n",
    "    plt.close()"
   ]
  },
  {
   "cell_type": "code",
   "execution_count": 60,
   "metadata": {
    "collapsed": true
   },
   "outputs": [
    {
     "name": "stderr",
     "output_type": "stream",
     "text": [
      "/var/folders/hg/94pnk0m50dqb6qh085z7z1zw0000gn/T/ipykernel_11204/377324333.py:31: RuntimeWarning: invalid value encountered in true_divide\n",
      "  ds = det_xs*det_log_ys / (det_xs**2+det_log_ys**2)**0.5\n",
      "/var/folders/hg/94pnk0m50dqb6qh085z7z1zw0000gn/T/ipykernel_11204/377324333.py:31: RuntimeWarning: invalid value encountered in true_divide\n",
      "  ds = det_xs*det_log_ys / (det_xs**2+det_log_ys**2)**0.5\n",
      "/var/folders/hg/94pnk0m50dqb6qh085z7z1zw0000gn/T/ipykernel_11204/377324333.py:31: RuntimeWarning: invalid value encountered in true_divide\n",
      "  ds = det_xs*det_log_ys / (det_xs**2+det_log_ys**2)**0.5\n",
      "/var/folders/hg/94pnk0m50dqb6qh085z7z1zw0000gn/T/ipykernel_11204/377324333.py:31: RuntimeWarning: invalid value encountered in true_divide\n",
      "  ds = det_xs*det_log_ys / (det_xs**2+det_log_ys**2)**0.5\n",
      "/var/folders/hg/94pnk0m50dqb6qh085z7z1zw0000gn/T/ipykernel_11204/377324333.py:31: RuntimeWarning: invalid value encountered in true_divide\n",
      "  ds = det_xs*det_log_ys / (det_xs**2+det_log_ys**2)**0.5\n",
      "/var/folders/hg/94pnk0m50dqb6qh085z7z1zw0000gn/T/ipykernel_11204/377324333.py:31: RuntimeWarning: invalid value encountered in true_divide\n",
      "  ds = det_xs*det_log_ys / (det_xs**2+det_log_ys**2)**0.5\n",
      "/var/folders/hg/94pnk0m50dqb6qh085z7z1zw0000gn/T/ipykernel_11204/377324333.py:16: RuntimeWarning: divide by zero encountered in log10\n",
      "  log_ys = np.log10(ys)\n",
      "/var/folders/hg/94pnk0m50dqb6qh085z7z1zw0000gn/T/ipykernel_11204/377324333.py:31: RuntimeWarning: invalid value encountered in true_divide\n",
      "  ds = det_xs*det_log_ys / (det_xs**2+det_log_ys**2)**0.5\n",
      "/var/folders/hg/94pnk0m50dqb6qh085z7z1zw0000gn/T/ipykernel_11204/377324333.py:31: RuntimeWarning: invalid value encountered in true_divide\n",
      "  ds = det_xs*det_log_ys / (det_xs**2+det_log_ys**2)**0.5\n",
      "/var/folders/hg/94pnk0m50dqb6qh085z7z1zw0000gn/T/ipykernel_11204/377324333.py:31: RuntimeWarning: invalid value encountered in true_divide\n",
      "  ds = det_xs*det_log_ys / (det_xs**2+det_log_ys**2)**0.5\n",
      "/var/folders/hg/94pnk0m50dqb6qh085z7z1zw0000gn/T/ipykernel_11204/377324333.py:31: RuntimeWarning: invalid value encountered in true_divide\n",
      "  ds = det_xs*det_log_ys / (det_xs**2+det_log_ys**2)**0.5\n",
      "/var/folders/hg/94pnk0m50dqb6qh085z7z1zw0000gn/T/ipykernel_11204/377324333.py:31: RuntimeWarning: invalid value encountered in true_divide\n",
      "  ds = det_xs*det_log_ys / (det_xs**2+det_log_ys**2)**0.5\n",
      "/var/folders/hg/94pnk0m50dqb6qh085z7z1zw0000gn/T/ipykernel_11204/377324333.py:31: RuntimeWarning: invalid value encountered in true_divide\n",
      "  ds = det_xs*det_log_ys / (det_xs**2+det_log_ys**2)**0.5\n",
      "/var/folders/hg/94pnk0m50dqb6qh085z7z1zw0000gn/T/ipykernel_11204/377324333.py:31: RuntimeWarning: invalid value encountered in true_divide\n",
      "  ds = det_xs*det_log_ys / (det_xs**2+det_log_ys**2)**0.5\n",
      "/var/folders/hg/94pnk0m50dqb6qh085z7z1zw0000gn/T/ipykernel_11204/377324333.py:16: RuntimeWarning: divide by zero encountered in log10\n",
      "  log_ys = np.log10(ys)\n",
      "/var/folders/hg/94pnk0m50dqb6qh085z7z1zw0000gn/T/ipykernel_11204/377324333.py:31: RuntimeWarning: invalid value encountered in true_divide\n",
      "  ds = det_xs*det_log_ys / (det_xs**2+det_log_ys**2)**0.5\n",
      "/var/folders/hg/94pnk0m50dqb6qh085z7z1zw0000gn/T/ipykernel_11204/377324333.py:31: RuntimeWarning: invalid value encountered in true_divide\n",
      "  ds = det_xs*det_log_ys / (det_xs**2+det_log_ys**2)**0.5\n",
      "/var/folders/hg/94pnk0m50dqb6qh085z7z1zw0000gn/T/ipykernel_11204/377324333.py:31: RuntimeWarning: invalid value encountered in true_divide\n",
      "  ds = det_xs*det_log_ys / (det_xs**2+det_log_ys**2)**0.5\n",
      "/var/folders/hg/94pnk0m50dqb6qh085z7z1zw0000gn/T/ipykernel_11204/377324333.py:31: RuntimeWarning: invalid value encountered in true_divide\n",
      "  ds = det_xs*det_log_ys / (det_xs**2+det_log_ys**2)**0.5\n",
      "/var/folders/hg/94pnk0m50dqb6qh085z7z1zw0000gn/T/ipykernel_11204/377324333.py:31: RuntimeWarning: invalid value encountered in true_divide\n",
      "  ds = det_xs*det_log_ys / (det_xs**2+det_log_ys**2)**0.5\n",
      "/var/folders/hg/94pnk0m50dqb6qh085z7z1zw0000gn/T/ipykernel_11204/377324333.py:31: RuntimeWarning: invalid value encountered in true_divide\n",
      "  ds = det_xs*det_log_ys / (det_xs**2+det_log_ys**2)**0.5\n",
      "/var/folders/hg/94pnk0m50dqb6qh085z7z1zw0000gn/T/ipykernel_11204/377324333.py:31: RuntimeWarning: invalid value encountered in true_divide\n",
      "  ds = det_xs*det_log_ys / (det_xs**2+det_log_ys**2)**0.5\n",
      "/var/folders/hg/94pnk0m50dqb6qh085z7z1zw0000gn/T/ipykernel_11204/377324333.py:31: RuntimeWarning: invalid value encountered in true_divide\n",
      "  ds = det_xs*det_log_ys / (det_xs**2+det_log_ys**2)**0.5\n",
      "/var/folders/hg/94pnk0m50dqb6qh085z7z1zw0000gn/T/ipykernel_11204/377324333.py:16: RuntimeWarning: divide by zero encountered in log10\n",
      "  log_ys = np.log10(ys)\n",
      "/var/folders/hg/94pnk0m50dqb6qh085z7z1zw0000gn/T/ipykernel_11204/377324333.py:31: RuntimeWarning: invalid value encountered in true_divide\n",
      "  ds = det_xs*det_log_ys / (det_xs**2+det_log_ys**2)**0.5\n",
      "/var/folders/hg/94pnk0m50dqb6qh085z7z1zw0000gn/T/ipykernel_11204/377324333.py:31: RuntimeWarning: invalid value encountered in true_divide\n",
      "  ds = det_xs*det_log_ys / (det_xs**2+det_log_ys**2)**0.5\n",
      "/var/folders/hg/94pnk0m50dqb6qh085z7z1zw0000gn/T/ipykernel_11204/377324333.py:31: RuntimeWarning: invalid value encountered in true_divide\n",
      "  ds = det_xs*det_log_ys / (det_xs**2+det_log_ys**2)**0.5\n"
     ]
    }
   ],
   "source": [
    "b=4 #change board number here. b = [0,1,2,3,4] if the scan only has bore+bottom.\n",
    "\n",
    "fit_matrix = []\n",
    "chan_names = []\n",
    "\n",
    "for k in board_dict[board_list[b]]: \n",
    "    for s in [0,1,2,3]:\n",
    "        data = Table.read(scans[k], format='ascii') \n",
    "        name = scans[k].split('/')[3][9:23]+'_SiPM_'+str(s)\n",
    "        figname = './'+date+'/fit_quality/'+'board'+scans[k].split('/')[3][15] +'/'+ name\n",
    "        chan_names.append(name)\n",
    "        \n",
    "        data = data[ data['col2']==s ]\n",
    "        xs = np.array( data['col5'] ) * 1000\n",
    "        ys = np.array( data['col8'] )\n",
    "        log_ys = np.log10(ys)\n",
    "\n",
    "        # Fine the ending points of the line\n",
    "        max_idx = np.argmax( log_ys )\n",
    "        x1, log_y1 = xs[max_idx], log_ys[max_idx]\n",
    "        min_idx = max_idx + np.argmin( log_ys[max_idx:] )\n",
    "        x2, log_y2 = xs[min_idx], log_ys[min_idx]\n",
    "        # Fine the line, log_y = Ax + B\n",
    "        A = (log_y1-log_y2) / (x1-x2)\n",
    "        B = (log_y2*x1-log_y1*x2) / (x1-x2)\n",
    "\n",
    "        # Calcualte signed distance between the curve and the line\n",
    "        # det_y defines the sign (below is positive)\n",
    "        det_log_ys = -log_ys + A*xs + B\n",
    "        det_xs = np.abs( det_log_ys/A )\n",
    "        ds = det_xs*det_log_ys / (det_xs**2+det_log_ys**2)**0.5\n",
    "        # Correct nan when distance = 0\n",
    "        ds[ np.isnan(ds) ] = 0\n",
    "\n",
    "        # Find peaks\n",
    "        peak_idxs = max_idx + find_peaks(ds[max_idx:], prominence=0.05)[0]\n",
    "        \n",
    "        # Some exceptions\n",
    "        if (b==3) and (k==24) and (s==0): \n",
    "            peak_idxs = np.append( np.append(70, peak_idxs), 170 )\n",
    "        if (b==3) and (k==24) and (s in [1,2,3]): \n",
    "            peak_idxs = np.append(peak_idxs, 160)  \n",
    "        if (b==3) and (k==25):\n",
    "            peak_idxs = np.append( np.append(65, peak_idxs), 134 )        \n",
    "        if (b==4) and (k==32):\n",
    "            peak_idxs = max_idx + find_peaks(ds[max_idx:], prominence=0.03)[0]\n",
    "            peak_idxs = np.append(peak_idxs, 130)\n",
    "        if (b==4) and (k==34):\n",
    "            peak_idxs = max_idx + find_peaks(ds[max_idx:], prominence=0.03)[0]\n",
    "            peak_idxs = np.append(peak_idxs, 140)\n",
    "        \n",
    "            \n",
    "        # Fine the x,y to fit\n",
    "        fit_xs = xs[:peak_idxs[2]]\n",
    "        fit_ys = ys[:peak_idxs[2]]\n",
    "\n",
    "        # Remove low values\n",
    "        use_idxs = np.where(fit_ys>=10**6.5)[0][0]\n",
    "        fit_xs = fit_xs[use_idxs:]\n",
    "        fit_ys = fit_ys[use_idxs:]\n",
    "\n",
    "        # Define the function to fit\n",
    "        def fit_func(x, Ap, x0p, bp, cp, frac_A1, det_x01, b1, c1, frac_A2, det_x02, b2):\n",
    "            x01 = x0p + det_x01\n",
    "            x02 = x01 + det_x02\n",
    "            A1 = Ap * frac_A1\n",
    "            A2 = A1 * frac_A2\n",
    "            \n",
    "            gausp = Ap*np.exp(-1/2*abs((x - x0p)/bp)**cp)\n",
    "            gaus1 = A1*np.exp(-1/2*abs((x - x01)/b1)**c1)\n",
    "            sigm2 = A2/(1+np.exp((x - x02)/b2))\n",
    "            return np.log10( gausp + gaus1 + sigm2 )\n",
    "\n",
    "        # Define the lost function, chi2\n",
    "        least_squares = LeastSquares(fit_xs, np.log10(fit_ys), np.ones(len(fit_ys)), fit_func)\n",
    "\n",
    "        # Set the initial value\n",
    "        x0p_ini = (fit_xs[0]+xs[peak_idxs[0]])/2\n",
    "        x01_ini = (xs[peak_idxs[0]]+xs[peak_idxs[1]])/2\n",
    "        x02_ini = (xs[peak_idxs[1]]+xs[peak_idxs[2]])/2\n",
    "        cp_ini, c1_ini = 2., 2.\n",
    "        bp_ini, b1_ini, b2_ini = (fit_xs[-1]-fit_xs[0])/6, (fit_xs[-1]-fit_xs[0])/6, (fit_xs[-1]-fit_xs[0])/6\n",
    "        Ap_ini = np.interp(x0p_ini, xs, ys) \n",
    "        A1_ini = np.interp(x01_ini, xs, ys) \n",
    "        A2_ini = np.interp(x02_ini, xs, ys)*2\n",
    "        det_x01_ini = x01_ini - x0p_ini\n",
    "        det_x02_ini = x02_ini - x01_ini\n",
    "        frac_A1_ini = A1_ini / Ap_ini\n",
    "        frac_A2_ini = A2_ini / A1_ini\n",
    "\n",
    "        # Set the initial value\n",
    "        m = Minuit(least_squares, \n",
    "                   Ap=Ap_ini, x0p=x0p_ini, bp=bp_ini, cp=cp_ini, \n",
    "                   frac_A1=frac_A1_ini, det_x01=det_x01_ini, b1=b1_ini, c1=c1_ini, \n",
    "                   frac_A2=frac_A2_ini, det_x02=det_x02_ini, b2=b2_ini) \n",
    "\n",
    "        # Set parameter limit\n",
    "        m.limits['x0p'] = (fit_xs[0], None)\n",
    "        m.limits['det_x01'] = (0.1, fit_xs[-1]-fit_xs[0])\n",
    "        m.limits['det_x02'] = (0.1, fit_xs[-1]-fit_xs[0])\n",
    "        m.limits['Ap'] = (0, None)\n",
    "        m.limits['frac_A1'] = (0, 1)\n",
    "        m.limits['frac_A2'] = (0, 1)\n",
    "\n",
    "        m.limits['cp'] = (0, 10)\n",
    "        m.limits['c1'] = (0, 10)\n",
    "        m.limits['bp'] = (0, None)\n",
    "        m.limits['b1'] = (0, None)\n",
    "        m.limits['b2'] = (0, None)\n",
    "\n",
    "        # Fit\n",
    "        # Gradually free parameteres \n",
    "        m.fixed = True\n",
    "\n",
    "        m.fixed['Ap'] = False\n",
    "        m.fixed['x0p'] = False\n",
    "        _ = m.migrad()#; print(m.valid)\n",
    "\n",
    "        m.fixed['frac_A1'] = False\n",
    "        m.fixed['det_x01'] = False\n",
    "        _ = m.migrad()#; print(m.valid)\n",
    "\n",
    "        m.fixed['frac_A2'] = False\n",
    "        m.fixed['det_x02'] = False\n",
    "        _ = m.migrad()#; print(m.valid)\n",
    "\n",
    "        m.fixed['bp'] = False\n",
    "        m.fixed['b1'] = False\n",
    "        m.fixed['b2'] = False\n",
    "        _ = m.migrad()#; print(m.valid)\n",
    "\n",
    "        m.fixed['c1'] = False\n",
    "        m.fixed['cp'] = False\n",
    "        _ = m.migrad()#; print(m.valid)\n",
    "\n",
    "        # Plot the result\n",
    "        plt.figure(figsize=(6,4))\n",
    "        figname\n",
    "        plt.plot( fit_xs, np.log10(fit_ys), '.')\n",
    "        plt.plot( fit_xs, fit_func(fit_xs, *m.values) )\n",
    "        plt.savefig(figname)\n",
    "        plt.close()\n",
    "        \n",
    "        Ap, A1, A2 = m.values['Ap'], m.values['Ap']*m.values['frac_A1'], m.values['Ap']*m.values['frac_A1']*m.values['frac_A2']\n",
    "        x0p, bp, cp = m.values['x0p'], m.values['bp'], m.values['cp']\n",
    "        x01, b1, c1 = m.values['x0p']+m.values['det_x01'], m.values['b1'], m.values['c1']\n",
    "        x02, b2 = m.values['x0p']+m.values['det_x01']+m.values['det_x02'], m.values['b2']\n",
    "        \n",
    "        B1 = 0.5*(1 + A1/Ap)\n",
    "        B2 = 0.5*(1 + A2/(A1*(1+np.exp(-x02/b2))))\n",
    "        \n",
    "        Xp = x0p + bp*((np.log(1/B1**2))**(1/cp))\n",
    "        X1 = x01 + b1*((np.log(1/B2**2))**(1/c1))\n",
    "        X2 = x02\n",
    "        \n",
    "        fit_matrix.append([Ap, A1, A2, x0p, bp, cp,\n",
    "                           x01, b1, c1, x02, b2, \n",
    "                           B1, B2, Xp, X1, X2])\n",
    "        \n",
    "\n",
    "fit_matrix = np.array(fit_matrix)\n",
    "\n",
    "tab = Table(fit_matrix, names=['Ap', 'A1', 'A2', 'x0p', 'bp', 'cp',\n",
    "                         'x01', 'b1', 'c1','x02', 'b2', \n",
    "                         'B1', 'B2', 'Xp', 'X1', 'X2'])\n",
    "\n",
    "tab.add_column(Table.Column(chan_names, name='chan'), index=0)\n",
    "tab.write('./'+date+'/fit_parameters/'+date+'_board'+scans[k].split('/')[3][15]+'.dat', \n",
    "          format='ascii.commented_header', overwrite=True)\n"
   ]
  },
  {
   "cell_type": "code",
   "execution_count": 123,
   "metadata": {},
   "outputs": [
    {
     "data": {
      "text/plain": [
       "array([ 68, 115])"
      ]
     },
     "execution_count": 123,
     "metadata": {},
     "output_type": "execute_result"
    }
   ],
   "source": [
    "peak_idxs"
   ]
  },
  {
   "cell_type": "code",
   "execution_count": 99,
   "metadata": {},
   "outputs": [
    {
     "data": {
      "text/plain": [
       "(array([ 13,  59, 111, 122, 125, 127, 129, 132, 135, 137]),\n",
       " {'prominences': array([0.05350489, 0.1197825 , 0.0213954 , 0.01152868, 0.03937388,\n",
       "         0.03278253, 0.01699209, 0.01489688, 0.01332871, 0.01471232]),\n",
       "  'left_bases': array([  6,  45,  45,  45,  45,  45, 128,  45,  45,  45]),\n",
       "  'right_bases': array([ 45,  86, 119, 123, 126, 128, 130, 134, 136, 138])})"
      ]
     },
     "execution_count": 99,
     "metadata": {},
     "output_type": "execute_result"
    }
   ],
   "source": [
    "from scipy.signal import argrelextrema\n",
    "\n",
    "find_peaks( ds[max_idx:], prominence=0.01)"
   ]
  },
  {
   "cell_type": "code",
   "execution_count": 100,
   "metadata": {},
   "outputs": [
    {
     "data": {
      "text/plain": [
       "array([13.67, 22.85])"
      ]
     },
     "execution_count": 100,
     "metadata": {},
     "output_type": "execute_result"
    }
   ],
   "source": [
    "peak_idxs = max_idx + find_peaks( ds[max_idx:], prominence=0.05)[0]\n",
    "xs[peak_idxs]"
   ]
  },
  {
   "cell_type": "code",
   "execution_count": 104,
   "metadata": {},
   "outputs": [
    {
     "data": {
      "text/plain": [
       "(4, 32, 0)"
      ]
     },
     "execution_count": 104,
     "metadata": {},
     "output_type": "execute_result"
    }
   ],
   "source": [
    "b, k, s"
   ]
  },
  {
   "cell_type": "code",
   "execution_count": 116,
   "metadata": {},
   "outputs": [
    {
     "data": {
      "text/plain": [
       "139"
      ]
     },
     "execution_count": 116,
     "metadata": {},
     "output_type": "execute_result"
    }
   ],
   "source": [
    "np.abs(xs-28).argmin()"
   ]
  },
  {
   "cell_type": "code",
   "execution_count": 72,
   "metadata": {},
   "outputs": [
    {
     "data": {
      "text/plain": [
       "array([19.53, 27.34, 28.32, 29.49, 30.86, 35.74, 36.72, 37.3 , 39.45])"
      ]
     },
     "execution_count": 72,
     "metadata": {},
     "output_type": "execute_result"
    }
   ],
   "source": [
    "xs[max_idx + find_peaks(ds[max_idx:], prominence=0.01)[0]]"
   ]
  },
  {
   "cell_type": "code",
   "execution_count": 125,
   "metadata": {},
   "outputs": [
    {
     "data": {
      "text/plain": [
       "[<matplotlib.lines.Line2D at 0x7fd102d8d310>]"
      ]
     },
     "execution_count": 125,
     "metadata": {},
     "output_type": "execute_result"
    },
    {
     "data": {
      "image/png": "[encoded data removed]",
      "text/plain": [
       "<Figure size 432x288 with 1 Axes>"
      ]
     },
     "metadata": {
      "needs_background": "light"
     },
     "output_type": "display_data"
    }
   ],
   "source": [
    "#m = Minuit(least_squares, Ap=Ap_ini, x0p=x0p_ini, bp=bp_ini, cp=cp_ini, A1=A1_ini, det_x01=det_x01_ini, \n",
    "#           b1=b1_ini, c1=c1_ini, A2=A2_ini, det_x02=det_x02_ini, b2=b2_ini) \n",
    "plt.plot( fit_xs, np.log10(fit_ys), '.')\n",
    "plt.plot( fit_xs, fit_func(fit_xs, *m.values) )"
   ]
  },
  {
   "cell_type": "code",
   "execution_count": 119,
   "metadata": {},
   "outputs": [
    {
     "name": "stderr",
     "output_type": "stream",
     "text": [
      "/var/folders/hg/94pnk0m50dqb6qh085z7z1zw0000gn/T/ipykernel_16665/1956160341.py:1: RuntimeWarning: divide by zero encountered in log10\n",
      "  plt.plot(xs[max_idx:], np.log10(ys)[max_idx:], '.')\n"
     ]
    },
    {
     "data": {
      "text/plain": [
       "(3.0, 7.0)"
      ]
     },
     "execution_count": 119,
     "metadata": {},
     "output_type": "execute_result"
    },
    {
     "data": {
      "image/png": "[encoded data removed]",
      "text/plain": [
       "<Figure size 432x288 with 1 Axes>"
      ]
     },
     "metadata": {
      "needs_background": "light"
     },
     "output_type": "display_data"
    }
   ],
   "source": [
    "plt.plot(xs[max_idx:], np.log10(ys)[max_idx:], '.')\n",
    "plt.plot(xs[max_idx:], (A*xs+B)[max_idx:], '-')\n",
    "plt.ylim(3,7)\n",
    "#plt.yscale('log')\n",
    "#plt.ylim(1e5, 1e7)"
   ]
  },
  {
   "cell_type": "code",
   "execution_count": 120,
   "metadata": {},
   "outputs": [
    {
     "data": {
      "text/plain": [
       "[<matplotlib.lines.Line2D at 0x7fd0e632c040>]"
      ]
     },
     "execution_count": 120,
     "metadata": {},
     "output_type": "execute_result"
    },
    {
     "data": {
      "image/png": "[encoded data removed]",
      "text/plain": [
       "<Figure size 432x288 with 1 Axes>"
      ]
     },
     "metadata": {
      "needs_background": "light"
     },
     "output_type": "display_data"
    }
   ],
   "source": [
    "plt.plot(xs[max_idx:], ds[max_idx:])"
   ]
  },
  {
   "cell_type": "code",
   "execution_count": 69,
   "metadata": {},
   "outputs": [
    {
     "data": {
      "text/plain": [
       "array([13.87, 34.08])"
      ]
     },
     "execution_count": 69,
     "metadata": {},
     "output_type": "execute_result"
    }
   ],
   "source": [
    "xs[peak_idxs]"
   ]
  }
 ],
 "metadata": {
  "kernelspec": {
   "display_name": "Python 3 (ipykernel)",
   "language": "python",
   "name": "python3"
  },
  "language_info": {
   "codemirror_mode": {
    "name": "ipython",
    "version": 3
   },
   "file_extension": ".py",
   "mimetype": "text/x-python",
   "name": "python",
   "nbconvert_exporter": "python",
   "pygments_lexer": "ipython3",
   "version": "3.9.7"
  }
 },
 "nbformat": 4,
 "nbformat_minor": 4
}
